{
  "nbformat": 4,
  "nbformat_minor": 0,
  "metadata": {
    "colab": {
      "provenance": []
    },
    "kernelspec": {
      "name": "python3",
      "display_name": "Python 3"
    },
    "language_info": {
      "name": "python"
    }
  },
  "cells": [
    {
      "cell_type": "code",
      "execution_count": 9,
      "metadata": {
        "id": "ODNyUfDOvAXy"
      },
      "outputs": [],
      "source": [
        "from numpy import array , dot , random\n",
        "from random import choice\n",
        "\n",
        "import numpy as np"
      ]
    },
    {
      "cell_type": "code",
      "source": [
        "# McNeuron for AND\n",
        "\n",
        "w = random.rand(2)\n",
        "\n",
        "w[0] = 1\n",
        "w[1] = 1\n",
        "\n",
        "training_data = [\n",
        "    (array([0,0]), 0),\n",
        "    (array([0,1]) , 0),\n",
        "    (array([1,0]), 0),\n",
        "    (array([1,1]), 1)\n",
        "]\n",
        "\n",
        "step_function  = lambda x : 0 if x < 2 else 1"
      ],
      "metadata": {
        "id": "bbwkxUONvh7w"
      },
      "execution_count": 6,
      "outputs": []
    },
    {
      "cell_type": "code",
      "source": [
        "for x,_ in training_data:\n",
        "    result = dot(x,w)\n",
        "\n",
        "    print(\"{}: {} -> {}\".format(x[:2], result, step_function(result)))"
      ],
      "metadata": {
        "colab": {
          "base_uri": "https://localhost:8080/"
        },
        "id": "b1_szs1qvqX1",
        "outputId": "f49871c0-0bfc-427e-e504-36bb907d4d77"
      },
      "execution_count": 5,
      "outputs": [
        {
          "output_type": "stream",
          "name": "stdout",
          "text": [
            "[0 0]: 0.0 -> 0\n",
            "[0 1]: 1.0 -> 0\n",
            "[1 0]: 1.0 -> 0\n",
            "[1 1]: 2.0 -> 1\n"
          ]
        }
      ]
    },
    {
      "cell_type": "code",
      "source": [
        "# McNeuron for OR\n",
        "\n",
        "w = random.rand(2)\n",
        "\n",
        "w[0] = 1\n",
        "w[1] = 1\n",
        "\n",
        "training_data = [\n",
        "    (array([0,0]), 0),\n",
        "    (array([0,1]) , 1),\n",
        "    (array([1,0]), 1),\n",
        "    (array([1,1]), 1)\n",
        "]\n",
        "\n",
        "step_function  = lambda x : 0 if x < 1 else 1"
      ],
      "metadata": {
        "id": "qJkcLGnjxUau"
      },
      "execution_count": 7,
      "outputs": []
    },
    {
      "cell_type": "code",
      "source": [
        "for x,_ in training_data:\n",
        "    result = dot(x,w)\n",
        "\n",
        "    print(\"{}: {} -> {}\".format(x[:2], result, step_function(result)))"
      ],
      "metadata": {
        "colab": {
          "base_uri": "https://localhost:8080/"
        },
        "id": "EqzKYsTIxv01",
        "outputId": "97e6a42e-585a-4f93-fcb1-f0bf401f61f1"
      },
      "execution_count": 8,
      "outputs": [
        {
          "output_type": "stream",
          "name": "stdout",
          "text": [
            "[0 0]: 0.0 -> 0\n",
            "[0 1]: 1.0 -> 1\n",
            "[1 0]: 1.0 -> 1\n",
            "[1 1]: 2.0 -> 1\n"
          ]
        }
      ]
    },
    {
      "cell_type": "markdown",
      "source": [
        "RosenBlatt Perception for Boolean Gates, y = W1X1 + W2X2 + W3X3 + b"
      ],
      "metadata": {
        "id": "NFoJkmvBzmOL"
      }
    },
    {
      "cell_type": "code",
      "source": [
        "# RosenBlatt for AND\n",
        "\n",
        "w = random.rand(3)\n",
        "b = .1\n",
        "errors = []\n",
        "learning_rate = 0.1\n",
        "no_of_iteration = 1000\n",
        "\n",
        "\n",
        "training_data = [\n",
        "    (array([0,0,1]), 0),\n",
        "    (array([0,1,1]) , 0),\n",
        "    (array([1,0,1]), 0),\n",
        "    (array([1,1,1]), 1)\n",
        "]\n",
        "\n",
        "step_function  = lambda x : 0 if x < 30 else 1"
      ],
      "metadata": {
        "id": "wJlNCKfkzjwG"
      },
      "execution_count": 10,
      "outputs": []
    },
    {
      "cell_type": "code",
      "source": [
        "for i in range(no_of_iteration):\n",
        "    x, expected = choice(training_data)\n",
        "\n",
        "    result = dot(w , x)\n",
        "    error = expected - step_function(result)\n",
        "\n",
        "    errors.append(error)\n",
        "\n",
        "    w += learning_rate * error * x"
      ],
      "metadata": {
        "id": "jjAgfINM0V2J"
      },
      "execution_count": 11,
      "outputs": []
    },
    {
      "cell_type": "code",
      "source": [
        "for x,_ in training_data:\n",
        "    result = dot(x,w)\n",
        "\n",
        "    print(\"{}: {} -> {}\".format(x[:3], result, step_function(result)))"
      ],
      "metadata": {
        "colab": {
          "base_uri": "https://localhost:8080/"
        },
        "id": "BWqZqyH21JaG",
        "outputId": "c41f3d00-7af4-4da3-a85f-a65d422b8993"
      },
      "execution_count": 13,
      "outputs": [
        {
          "output_type": "stream",
          "name": "stdout",
          "text": [
            "[0 0 1]: 9.930848534546762 -> 0\n",
            "[0 1 1]: 20.342934593649616 -> 0\n",
            "[1 0 1]: 19.67338866294385 -> 0\n",
            "[1 1 1]: 30.085474722046705 -> 1\n"
          ]
        }
      ]
    }
  ]
}